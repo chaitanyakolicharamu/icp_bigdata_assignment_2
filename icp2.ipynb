{
  "nbformat": 4,
  "nbformat_minor": 0,
  "metadata": {
    "colab": {
      "provenance": [],
      "authorship_tag": "ABX9TyMCYsnVAWBg4DP1seP+QXTK",
      "include_colab_link": true
    },
    "kernelspec": {
      "name": "python3",
      "display_name": "Python 3"
    },
    "language_info": {
      "name": "python"
    }
  },
  "cells": [
    {
      "cell_type": "markdown",
      "metadata": {
        "id": "view-in-github",
        "colab_type": "text"
      },
      "source": [
        "<a href=\"https://colab.research.google.com/github/chaitanyakolicharamu/icp_bigdata_assignment_2/blob/main/icp2.ipynb\" target=\"_parent\"><img src=\"https://colab.research.google.com/assets/colab-badge.svg\" alt=\"Open In Colab\"/></a>"
      ]
    },
    {
      "cell_type": "code",
      "execution_count": null,
      "metadata": {
        "colab": {
          "base_uri": "https://localhost:8080/"
        },
        "id": "fEJaIdIWtKe5",
        "outputId": "e9fbc475-fb26-4dd2-e0f2-99fb07a19fbc"
      },
      "outputs": [
        {
          "output_type": "stream",
          "name": "stdout",
          "text": [
            "a.get_counts(): (3, 2)\n",
            "b.get_counts(): (3, 1)\n"
          ]
        }
      ],
      "source": [
        "class Counter:\n",
        "    _count = 0\n",
        "\n",
        "    def __init__(self):\n",
        "        self._count = 0\n",
        "\n",
        "    def increment(self):\n",
        "        Counter._count += 1\n",
        "        self._count += 1\n",
        "\n",
        "    def get_counts(self):\n",
        "        return (Counter._count, self._count)\n",
        "\n",
        "a = Counter()\n",
        "b = Counter()\n",
        "\n",
        "a.increment()\n",
        "a.increment()\n",
        "b.increment()\n",
        "\n",
        "print(\"a.get_counts():\", a.get_counts())\n",
        "print(\"b.get_counts():\", b.get_counts())\n"
      ]
    },
    {
      "cell_type": "markdown",
      "source": [
        "**1. Class Variables vs Instance Variables**\n",
        "\n",
        "1. **Difference between `Counter._count` and `self._count`:**  \n",
        "   `Counter._count` is a class variable, shared across all instances of the class.  \n",
        "   `self._count` is an instance variable, unique to each individual object created from the class.\n",
        "\n",
        "2. **What is the output of `a.get_counts()` and `b.get_counts()`?**  \n",
        "   `a.get_counts()` returns **(3, 2)** — the class variable `_count` is 3 and the instance variable for `a` is 2.  \n",
        "   `b.get_counts()` returns **(3, 1)** — the class variable remains 3 and the instance variable for `b` is 1.\n",
        "\n",
        "3. **How does the `increment()` method affect both the class and instance variables?**  \n",
        "   Each call to `increment()` increases the shared class variable `Counter._count` by 1  \n",
        "   and also increases the specific instance’s `self._count` by 1.  \n",
        "   So, `Counter._count` reflects total increments across all instances,  \n",
        "   while `self._count` reflects increments for that particular object.\n",
        "\n",
        "\n"
      ],
      "metadata": {
        "id": "TBg7WG-SwBBP"
      }
    },
    {
      "cell_type": "code",
      "source": [
        "def sum_all(*args):\n",
        "    return sum(args)\n",
        "\n",
        "print(\"Sum of 1, 2, 3 is:\", sum_all(1, 2, 3))\n",
        "print(\"Sum of 4, 5, 6, 7 is:\", sum_all(4, 5, 6, 7))\n"
      ],
      "metadata": {
        "colab": {
          "base_uri": "https://localhost:8080/"
        },
        "id": "WphrTBbpt0Yu",
        "outputId": "4d3920fe-f2a5-435b-f17e-0d7b15babbb5"
      },
      "execution_count": null,
      "outputs": [
        {
          "output_type": "stream",
          "name": "stdout",
          "text": [
            "Sum of 1, 2, 3 is: 6\n",
            "Sum of 4, 5, 6, 7 is: 22\n"
          ]
        }
      ]
    },
    {
      "cell_type": "markdown",
      "source": [
        "**2. Find and Remove the Bug**\n",
        "\n",
        "1. **Bug in the code:**  \n",
        "   The function was defined as `def sum_all(args)`, which accepts a single iterable,  \n",
        "   but the function was being called with multiple arguments, causing a mismatch.\n",
        "\n",
        "2. **Fix applied:**  \n",
        "   The function was updated to `def sum_all(*args)` to accept a variable number of arguments.\n",
        "\n",
        "3. **Correct output after fix:**  \n",
        "   - `sum_all(1, 2, 3)` → **6**  \n",
        "   - `sum_all(4, 5, 6, 7)` → **22**\n"
      ],
      "metadata": {
        "id": "S7mG9UlSykuo"
      }
    },
    {
      "cell_type": "code",
      "source": [
        "def first_word(words):\n",
        "    words.sort()\n",
        "    return words[0]\n",
        "\n",
        "students = ['Mary', 'Zelda', 'Jimmy', 'Jack', 'Bartholomew', 'Gertrude']\n",
        "print(first_word(students))\n"
      ],
      "metadata": {
        "colab": {
          "base_uri": "https://localhost:8080/"
        },
        "id": "bPaWpPdGt6TS",
        "outputId": "1aa771c2-1614-45aa-d70c-a40142f8088c"
      },
      "execution_count": null,
      "outputs": [
        {
          "output_type": "stream",
          "name": "stdout",
          "text": [
            "Bartholomew\n"
          ]
        }
      ]
    },
    {
      "cell_type": "markdown",
      "source": [],
      "metadata": {
        "id": "8asb2_bTyxgn"
      }
    },
    {
      "cell_type": "markdown",
      "source": [
        "**3. Alphabetically First Word**\n",
        "\n",
        "1. **Function logic:**  \n",
        "   The function sorts a list of strings in alphabetical order using `sort()`  \n",
        "   and returns the first word from the sorted list.\n",
        "\n",
        "2. **Example:**  \n",
        "   Input: `['Mary', 'Zelda', 'Jimmy', 'Jack', 'Bartholomew', 'Gertrude']`  \n",
        "   Output: **'Bartholomew'** — the first word alphabetically.\n"
      ],
      "metadata": {
        "id": "MSPfKxNayrhG"
      }
    },
    {
      "cell_type": "code",
      "source": [
        "class Employee:\n",
        "    emp_count = 0\n",
        "\n",
        "    def __init__(self, name, family, salary, department):\n",
        "        self.name = name\n",
        "        self.family = family\n",
        "        self.salary = salary\n",
        "        self.department = department\n",
        "        Employee.emp_count += 1\n",
        "\n",
        "    def average_salary(self, total_salary, num_employees):\n",
        "        return total_salary / num_employees\n",
        "\n",
        "\n",
        "class FulltimeEmployee(Employee):\n",
        "    def __init__(self, name, family, salary, department):\n",
        "        super().__init__(name, family, salary, department)\n",
        "\n",
        "\n",
        "emp1 = Employee(\"John\", \"Smith\", 50000, \"IT\")\n",
        "emp2 = FulltimeEmployee(\"Jane\", \"Doe\", 60000, \"Finance\")\n",
        "\n",
        "print(\"Total Employees:\", Employee.emp_count)\n",
        "\n",
        "total_salary = emp1.salary + emp2.salary\n",
        "print(\"Average Salary:\", emp1.average_salary(total_salary, Employee.emp_count))\n"
      ],
      "metadata": {
        "colab": {
          "base_uri": "https://localhost:8080/"
        },
        "id": "slPnjKoKuJMZ",
        "outputId": "2e821a5f-05b1-4447-e5ad-0d43c4b74e9b"
      },
      "execution_count": null,
      "outputs": [
        {
          "output_type": "stream",
          "name": "stdout",
          "text": [
            "Total Employees: 2\n",
            "Average Salary: 55000.0\n"
          ]
        }
      ]
    },
    {
      "cell_type": "markdown",
      "source": [
        "**4. Employee Class and Inheritance**\n",
        "\n",
        "1. **Employee count tracking:**  \n",
        "   A class variable `emp_count` is used to count how many employee instances have been created.\n",
        "\n",
        "2. **Constructor initialization:**  \n",
        "   The constructor assigns `name`, `family`, `salary`, and `department` attributes to each object.\n",
        "\n",
        "3. **Salary calculation:**  \n",
        "   The method `average_salary()` calculates average salary by dividing total salary by number of employees.\n",
        "\n",
        "4. **Inheritance implementation:**  \n",
        "   `FulltimeEmployee` class inherits from `Employee` and reuses the constructor using `super()`.\n",
        "\n",
        "5. **Final output:**  \n",
        "   - **Total Employees:** 2  \n",
        "   - **Average Salary:** 55000.0\n"
      ],
      "metadata": {
        "id": "XgupzvUsy0-d"
      }
    },
    {
      "cell_type": "markdown",
      "source": [],
      "metadata": {
        "id": "LFaObepav-er"
      }
    }
  ]
}